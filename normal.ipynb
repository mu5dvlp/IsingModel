{
 "cells": [
  {
   "cell_type": "markdown",
   "metadata": {},
   "source": [
    "# ライブラリのインポート"
   ]
  },
  {
   "cell_type": "code",
   "execution_count": 1,
   "metadata": {},
   "outputs": [],
   "source": [
    "from qiskit import *\n",
    "from qiskit.quantum_info import Operator, Statevector\n",
    "import numpy as np\n",
    "import matplotlib.pyplot as plt\n",
    "import commonLogic\n",
    "\n",
    "%matplotlib inline"
   ]
  },
  {
   "cell_type": "markdown",
   "metadata": {},
   "source": [
    "# パラメータ"
   ]
  },
  {
   "cell_type": "code",
   "execution_count": null,
   "metadata": {},
   "outputs": [],
   "source": [
    "num = 3\n",
    "t = 1\n",
    "M = 100\n",
    "\n",
    "delta = t/M"
   ]
  },
  {
   "cell_type": "code",
   "execution_count": null,
   "metadata": {},
   "outputs": [],
   "source": [
    "# オブザーバブルの準備\n",
    "magnetization_obs = commonLogic.get_observable_magnetization(num)\n",
    "\n",
    "# //ーーーーーーーーーーーーーーーーーーーーー\n",
    "# 初期状態ベクトルの準備\n",
    "state = Statevector.from_label('0' * num)\n",
    "\n",
    "# //ーーーーーーーーーーーーーーーーーーーーー\n",
    "# 量子回路の作成\n",
    "qc = QuantumCircuit(num)\n",
    "for i in range(num):\n",
    "    # 次の番号。numを超えた時、0に戻す\n",
    "    i_next = (i+1)%num\n",
    "    # e^{-iδZ_i Z_{i+1}}の回路化\n",
    "    qc.cx(i, i_next)\n",
    "    qc.rz(2*delta, i_next)\n",
    "    qc.cx(i, i_next)\n",
    "\n",
    "# //ーーーーーーーーーーーーーーーーーーーーー\n",
    "# グラフ要素\n",
    "x = [i*delta for i in range(M+1)]\n",
    "y = []\n",
    "\n",
    "# トロッター分解による時間発展(1回目)\n",
    "expectation_value = state.expectation_value(magnetization_obs).real\n",
    "y.append(expectation_value)\n",
    "\n",
    "# トロッター分解による時間発展(2回目〜)\n",
    "for i in range(M):\n",
    "    state = state.evolve(qc)\n",
    "    expectation_value = state.expectation_value(magnetization_obs).real\n",
    "    y.append(expectation_value)\n",
    "\n",
    "# グラフ作成\n",
    "plt.xlabel(\"Time (t)\")\n",
    "plt.ylabel(\"Value of magnetization\")\n",
    "plt.title(\"Dynamics of Ising model\")\n",
    "plt.plot(x, y, \"-\")\n",
    "plt.show()"
   ]
  }
 ],
 "metadata": {
  "kernelspec": {
   "display_name": "Python 3",
   "language": "python",
   "name": "python3"
  },
  "language_info": {
   "codemirror_mode": {
    "name": "ipython",
    "version": 3
   },
   "file_extension": ".py",
   "mimetype": "text/x-python",
   "name": "python",
   "nbconvert_exporter": "python",
   "pygments_lexer": "ipython3",
   "version": "3.11.6"
  }
 },
 "nbformat": 4,
 "nbformat_minor": 2
}
