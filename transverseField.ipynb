{
 "cells": [
  {
   "cell_type": "markdown",
   "metadata": {},
   "source": [
    "# ライブラリのインポート"
   ]
  },
  {
   "cell_type": "code",
   "execution_count": 2,
   "metadata": {},
   "outputs": [],
   "source": [
    "from qiskit import *\n",
    "from qiskit.quantum_info import Operator, Statevector\n",
    "import numpy as np\n",
    "import matplotlib.pyplot as plt\n",
    "\n",
    "%matplotlib inline"
   ]
  },
  {
   "cell_type": "markdown",
   "metadata": {},
   "source": [
    "# パラメータ"
   ]
  },
  {
   "cell_type": "code",
   "execution_count": null,
   "metadata": {},
   "outputs": [],
   "source": [
    "num = 6\n",
    "t = 3\n",
    "M = 100\n",
    "h = 3\n",
    "\n",
    "delta = t/M"
   ]
  },
  {
   "cell_type": "code",
   "execution_count": null,
   "metadata": {},
   "outputs": [],
   "source": [
    "# オブザーバブルの準備\n",
    "array_z = np.eye(2**num)\n",
    "for i in range(1,2**num,2):\n",
    "    array_z[i][i]=-1\n",
    "magnetization_obs = Operator(array_z)\n",
    "\n",
    "# //ーーーーーーーーーーーーーーーーーーーーー\n",
    "# 初期状態ベクトルの準備\n",
    "state = Statevector.from_label('0' * num)\n",
    "\n",
    "# //ーーーーーーーーーーーーーーーーーーーーー\n",
    "# 量子回路の作成\n",
    "qc = QuantumCircuit(num)\n",
    "for i in range(num):\n",
    "    i_next = (i+1)%num # iがnumを超えた時、0に戻す\n",
    "    qc.cx(i, i_next)\n",
    "    qc.rz(2*delta, i_next)\n",
    "    qc.cx(i, i_next)\n",
    "    qc.rx(2*delta*h, i)\n",
    "\n",
    "# //ーーーーーーーーーーーーーーーーーーーーー\n",
    "x = [i*delta for i in range(M+1)]\n",
    "y = []\n",
    "\n",
    "expectation_value = state.expectation_value(magnetization_obs).real\n",
    "y.append(expectation_value)\n",
    "\n",
    "for i in range(M):\n",
    "    state = state.evolve(qc)\n",
    "    expectation_value = state.expectation_value(magnetization_obs).real\n",
    "    y.append(expectation_value)\n",
    "\n",
    "plt.xlabel(\"Time (t)\")\n",
    "plt.ylabel(\"Value of magnetization\")\n",
    "plt.title(\"Dynamics of Ising model\")\n",
    "plt.plot(x, y, \"-\")\n",
    "plt.show()"
   ]
  }
 ],
 "metadata": {
  "kernelspec": {
   "display_name": "Python 3",
   "language": "python",
   "name": "python3"
  },
  "language_info": {
   "codemirror_mode": {
    "name": "ipython",
    "version": 3
   },
   "file_extension": ".py",
   "mimetype": "text/x-python",
   "name": "python",
   "nbconvert_exporter": "python",
   "pygments_lexer": "ipython3",
   "version": "3.11.6"
  }
 },
 "nbformat": 4,
 "nbformat_minor": 2
}
