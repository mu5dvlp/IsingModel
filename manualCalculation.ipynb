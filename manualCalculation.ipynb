{
 "cells": [
  {
   "cell_type": "markdown",
   "metadata": {},
   "source": [
    "# ライブラリのインポート"
   ]
  },
  {
   "cell_type": "code",
   "execution_count": 2,
   "metadata": {},
   "outputs": [],
   "source": [
    "from qiskit import *\n",
    "from qiskit.quantum_info import Operator, Statevector, DensityMatrix\n",
    "import numpy as np\n",
    "from scipy.linalg import expm\n",
    "import matplotlib.pyplot as plt\n",
    "\n",
    "%matplotlib inline"
   ]
  },
  {
   "cell_type": "markdown",
   "metadata": {},
   "source": [
    "# パラメータ"
   ]
  },
  {
   "cell_type": "code",
   "execution_count": null,
   "metadata": {},
   "outputs": [],
   "source": [
    "num = 6\n",
    "t = 3\n",
    "M = 100\n",
    "h = 3\n",
    "\n",
    "delta = t/M"
   ]
  },
  {
   "cell_type": "code",
   "execution_count": null,
   "metadata": {},
   "outputs": [],
   "source": [
    "# オブザーバブルの準備\n",
    "array_z = np.eye(2**num)\n",
    "for i in range(1,2**num,2):\n",
    "    array_z[i][i]=-1\n",
    "magnetization_obs = Operator(array_z)\n",
    "\n",
    "# //ーーーーーーーーーーーーーーーーーーーーー\n",
    "# 初期状態ベクトルの準備\n",
    "state = Statevector.from_label('0' * num)\n",
    "\n",
    "# //ーーーーーーーーーーーーーーーーーーーーー\n",
    "# Z_i*Z_{i+1}の行列表示\n",
    "zz_matrix = np.array([[1,0,0,0],\n",
    "                      [0,-1,0,0],\n",
    "                      [0,0,-1,0],\n",
    "                      [0,0,0,1]])\n",
    "\n",
    "# 横磁場の行列表現\n",
    "hx_matrix = h*np.array([[0,1], \n",
    "                        [1,0] ] )\n",
    "\n",
    "# 相互作用と横磁場のハミルトニアンを作成\n",
    "zz_terms = [Operator.from_label('I' * i + 'ZZ' + 'I' * (num - i - 2)) for i in range(num - 1)]\n",
    "hx_terms = [Operator.from_label('I' * i + 'X' + 'I' * (num - i - 1)) for i in range(num)]\n",
    "\n",
    "# ハミルトニアンの総和を取る\n",
    "zz_hamiltonian = sum(zz_terms)\n",
    "hx_hamiltonian = sum(hx_terms)\n",
    "hamiltonian = zz_hamiltonian + hx_hamiltonian\n",
    "\n",
    "# ハミルトニアンの行列表現を取得\n",
    "ham_matrix = hamiltonian.to_matrix()\n",
    "\n",
    "# ハミルトニアンの対角化\n",
    "eigenvalues, eigenvectors = np.linalg.eigh(ham_matrix)\n",
    "\n",
    "# e^{-iH*delta} の行列表現を作成\n",
    "e_iHdelta = expm(-1j * hamiltonian * delta).data\n",
    "\n",
    "# 回路に変換\n",
    "qc = QuantumCircuit(num)\n",
    "qc.unitary(e_iHdelta, range(num), label='e^{-iHt}')\n",
    "\n",
    "# //ーーーーーーーーーーーーーーーーーーーーー\n",
    "x = [i*delta for i in range(M+1)]\n",
    "y = []\n",
    "\n",
    "expectation_value = state.expectation_value(magnetization_obs).real\n",
    "y.append(expectation_value)\n",
    "\n",
    "for i in range(M):\n",
    "    state = state.evolve(qc)\n",
    "    expectation_value = state.expectation_value(magnetization_obs).real\n",
    "    y.append(expectation_value)\n",
    "\n",
    "plt.xlabel(\"Time (t)\")\n",
    "plt.ylabel(\"Value of magnetization\")\n",
    "plt.title(\"Dynamics of Ising model\")\n",
    "plt.plot(x, y, \"-\")\n",
    "plt.show()"
   ]
  }
 ],
 "metadata": {
  "kernelspec": {
   "display_name": "Python 3",
   "language": "python",
   "name": "python3"
  },
  "language_info": {
   "codemirror_mode": {
    "name": "ipython",
    "version": 3
   },
   "file_extension": ".py",
   "mimetype": "text/x-python",
   "name": "python",
   "nbconvert_exporter": "python",
   "pygments_lexer": "ipython3",
   "version": "3.11.6"
  }
 },
 "nbformat": 4,
 "nbformat_minor": 2
}
